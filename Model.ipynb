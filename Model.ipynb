{
 "cells": [
  {
   "cell_type": "markdown",
   "id": "7e9e16ef",
   "metadata": {},
   "source": [
    "# Importing Dependencies"
   ]
  },
  {
   "cell_type": "code",
   "execution_count": 1,
   "id": "c34f8092",
   "metadata": {},
   "outputs": [],
   "source": [
    "import pandas as pd\n",
    "import numpy as np\n",
    "import os \n",
    "from tqdm import tqdm\n",
    "from pydub import AudioSegment\n",
    "import os\n",
    "os.environ[\"PATH\"] += os.pathsep + 'C:/Path_Programs'\n",
    "#importing libraries\n",
    "import librosa\n",
    "import matplotlib.pyplot as plt\n",
    "from scipy.io import wavfile as wav\n",
    "from os import path"
   ]
  },
  {
   "cell_type": "markdown",
   "id": "e39da3af",
   "metadata": {},
   "source": [
    "# Importing Data"
   ]
  },
  {
   "cell_type": "code",
   "execution_count": 2,
   "id": "1683123e",
   "metadata": {},
   "outputs": [],
   "source": [
    "df=pd.read_csv('list3.csv')"
   ]
  },
  {
   "cell_type": "code",
   "execution_count": 3,
   "id": "52653cab",
   "metadata": {},
   "outputs": [
    {
     "data": {
      "text/html": [
       "<div>\n",
       "<style scoped>\n",
       "    .dataframe tbody tr th:only-of-type {\n",
       "        vertical-align: middle;\n",
       "    }\n",
       "\n",
       "    .dataframe tbody tr th {\n",
       "        vertical-align: top;\n",
       "    }\n",
       "\n",
       "    .dataframe thead th {\n",
       "        text-align: right;\n",
       "    }\n",
       "</style>\n",
       "<table border=\"1\" class=\"dataframe\">\n",
       "  <thead>\n",
       "    <tr style=\"text-align: right;\">\n",
       "      <th></th>\n",
       "      <th>Unnamed: 0</th>\n",
       "      <th>File</th>\n",
       "      <th>Language</th>\n",
       "    </tr>\n",
       "  </thead>\n",
       "  <tbody>\n",
       "    <tr>\n",
       "      <th>0</th>\n",
       "      <td>0</td>\n",
       "      <td>171.mp3</td>\n",
       "      <td>Bengali</td>\n",
       "    </tr>\n",
       "    <tr>\n",
       "      <th>1</th>\n",
       "      <td>1</td>\n",
       "      <td>172.mp3</td>\n",
       "      <td>Bengali</td>\n",
       "    </tr>\n",
       "    <tr>\n",
       "      <th>2</th>\n",
       "      <td>2</td>\n",
       "      <td>173.mp3</td>\n",
       "      <td>Bengali</td>\n",
       "    </tr>\n",
       "    <tr>\n",
       "      <th>3</th>\n",
       "      <td>3</td>\n",
       "      <td>174.mp3</td>\n",
       "      <td>Bengali</td>\n",
       "    </tr>\n",
       "    <tr>\n",
       "      <th>4</th>\n",
       "      <td>4</td>\n",
       "      <td>175.mp3</td>\n",
       "      <td>Bengali</td>\n",
       "    </tr>\n",
       "    <tr>\n",
       "      <th>...</th>\n",
       "      <td>...</td>\n",
       "      <td>...</td>\n",
       "      <td>...</td>\n",
       "    </tr>\n",
       "    <tr>\n",
       "      <th>300</th>\n",
       "      <td>26</td>\n",
       "      <td>856.mp3</td>\n",
       "      <td>Telugu</td>\n",
       "    </tr>\n",
       "    <tr>\n",
       "      <th>301</th>\n",
       "      <td>27</td>\n",
       "      <td>862.mp3</td>\n",
       "      <td>Telugu</td>\n",
       "    </tr>\n",
       "    <tr>\n",
       "      <th>302</th>\n",
       "      <td>28</td>\n",
       "      <td>866.mp3</td>\n",
       "      <td>Telugu</td>\n",
       "    </tr>\n",
       "    <tr>\n",
       "      <th>303</th>\n",
       "      <td>29</td>\n",
       "      <td>908.mp3</td>\n",
       "      <td>Telugu</td>\n",
       "    </tr>\n",
       "    <tr>\n",
       "      <th>304</th>\n",
       "      <td>30</td>\n",
       "      <td>935.mp3</td>\n",
       "      <td>Telugu</td>\n",
       "    </tr>\n",
       "  </tbody>\n",
       "</table>\n",
       "<p>305 rows × 3 columns</p>\n",
       "</div>"
      ],
      "text/plain": [
       "     Unnamed: 0     File Language\n",
       "0             0  171.mp3  Bengali\n",
       "1             1  172.mp3  Bengali\n",
       "2             2  173.mp3  Bengali\n",
       "3             3  174.mp3  Bengali\n",
       "4             4  175.mp3  Bengali\n",
       "..          ...      ...      ...\n",
       "300          26  856.mp3   Telugu\n",
       "301          27  862.mp3   Telugu\n",
       "302          28  866.mp3   Telugu\n",
       "303          29  908.mp3   Telugu\n",
       "304          30  935.mp3   Telugu\n",
       "\n",
       "[305 rows x 3 columns]"
      ]
     },
     "execution_count": 3,
     "metadata": {},
     "output_type": "execute_result"
    }
   ],
   "source": [
    "df"
   ]
  },
  {
   "cell_type": "markdown",
   "id": "882e6a05",
   "metadata": {},
   "source": [
    "# Testing methodology on Sample data"
   ]
  },
  {
   "cell_type": "code",
   "execution_count": 4,
   "id": "91474fa5",
   "metadata": {},
   "outputs": [],
   "source": [
    "audio_file_path='./Data/test2.wav'\n",
    "librosa_audio_data,librosa_sample_rate=librosa.load(audio_file_path)"
   ]
  },
  {
   "cell_type": "code",
   "execution_count": 5,
   "id": "b356c968",
   "metadata": {},
   "outputs": [
    {
     "data": {
      "text/plain": [
       "[<matplotlib.lines.Line2D at 0x1e99e737950>]"
      ]
     },
     "execution_count": 5,
     "metadata": {},
     "output_type": "execute_result"
    },
    {
     "data": {
      "image/png": "[encoded data removed]",
      "text/plain": [
       "<Figure size 1200x400 with 1 Axes>"
      ]
     },
     "metadata": {},
     "output_type": "display_data"
    }
   ],
   "source": [
    "import matplotlib.pyplot as plt\n",
    "# Original audio with 1 channel \n",
    "plt.figure(figsize=(12, 4))\n",
    "plt.plot(librosa_audio_data)"
   ]
  },
  {
   "cell_type": "code",
   "execution_count": 6,
   "id": "1fa9ba3e",
   "metadata": {},
   "outputs": [
    {
     "name": "stdout",
     "output_type": "stream",
     "text": [
      "(40, 215)\n"
     ]
    }
   ],
   "source": [
    "mfccs = librosa.feature.mfcc(y=librosa_audio_data,sr=librosa_sample_rate, n_mfcc=40)\n",
    "print(mfccs.shape)"
   ]
  },
  {
   "cell_type": "code",
   "execution_count": 7,
   "id": "1ad1efd6",
   "metadata": {},
   "outputs": [
    {
     "data": {
      "text/plain": [
       "array([[-5.6850085e+02, -5.5690466e+02, -5.5513818e+02, ...,\n",
       "        -2.5008333e+02, -2.1062082e+02, -2.1906342e+02],\n",
       "       [ 1.9980186e+00,  1.7122528e+01,  1.9581072e+01, ...,\n",
       "         1.5924387e+01,  7.1315331e+01,  1.3388142e+02],\n",
       "       [ 1.6096959e+00,  1.4560986e+01,  1.6655224e+01, ...,\n",
       "         1.8111155e+01, -1.3984650e+01, -1.2154413e+01],\n",
       "       ...,\n",
       "       [ 1.3021111e+00,  2.8575447e+00,  2.8730744e-01, ...,\n",
       "        -5.0913720e+00, -4.5364079e+00, -1.1278815e+00],\n",
       "       [ 8.4706783e-01,  2.4661732e+00, -1.0936581e-01, ...,\n",
       "         4.1762967e+00, -2.9138362e+00, -7.8561991e-01],\n",
       "       [ 2.9882935e-01,  1.1142788e+00, -1.0312804e+00, ...,\n",
       "         1.3013973e+01,  7.9092741e-01, -2.7169523e+00]], dtype=float32)"
      ]
     },
     "execution_count": 7,
     "metadata": {},
     "output_type": "execute_result"
    }
   ],
   "source": [
    "mfccs"
   ]
  },
  {
   "cell_type": "markdown",
   "id": "ce6954f6",
   "metadata": {},
   "source": [
    "# Feauture extraction"
   ]
  },
  {
   "cell_type": "code",
   "execution_count": 8,
   "id": "53b21aa5",
   "metadata": {},
   "outputs": [],
   "source": [
    "MFCC_NUM = 20 # 20 mfcc's will be calculated for each frame of the audio signal\n",
    "MFCC_MAX_LEN = 2000 #maximum length of feature vectors (padding, and truncating)"
   ]
  },
  {
   "cell_type": "code",
   "execution_count": 9,
   "id": "708c3153",
   "metadata": {},
   "outputs": [],
   "source": [
    "def features_extractor(file,lang,max_len=2000):\n",
    "    src = \"./Data/Train/\"+lang+\"1/\"+file\n",
    "    dst = \"./Data/test2.wav\"\n",
    "    sound = AudioSegment.from_mp3(src) #we read the audio file using pydub library\n",
    "    sound.export(dst, format=\"wav\")\n",
    "    audio, sample_rate = librosa.load(dst, mono=True,sr=44100) \n",
    "    audio=audio[::3] #speeds up data processing\n",
    "    mfcc = librosa.feature.mfcc(y = audio,sr=44100, n_mfcc=20)\n",
    "    if (max_len > mfcc.shape[1]):\n",
    "        pad_width = max_len - mfcc.shape[1]\n",
    "        mfcc = np.pad(mfcc, pad_width=((0, 0), (0, pad_width)), mode='constant')\n",
    "    \n",
    "    # Else cutoff the remaining parts\n",
    "    \n",
    "    else:\n",
    "        mfcc = mfcc[:, :max_len]\n",
    "    \n",
    "    return mfcc"
   ]
  },
  {
   "cell_type": "code",
   "execution_count": 10,
   "id": "ce031199",
   "metadata": {},
   "outputs": [
    {
     "name": "stderr",
     "output_type": "stream",
     "text": [
      "305it [00:36,  8.44it/s]\n"
     ]
    }
   ],
   "source": [
    "extracted_features=[] #empty list to store extracted features and language labels\n",
    "for index_num,row in tqdm(df.iterrows()): #iterates through rows of df\n",
    "    file_Name = str(row[\"File\"])\n",
    "    class_labels=row[\"Language\"]\n",
    "    data=features_extractor(file_Name,class_labels)\n",
    "    extracted_features.append([data,class_labels])"
   ]
  },
  {
   "cell_type": "code",
   "execution_count": 11,
   "id": "f94bbb8f",
   "metadata": {},
   "outputs": [
    {
     "data": {
      "text/plain": [
       "[[array([[-5.2946625e+02, -4.5446738e+02, -3.9308878e+02, ...,\n",
       "           0.0000000e+00,  0.0000000e+00,  0.0000000e+00],\n",
       "         [ 4.8457233e+01,  9.5342575e+01,  1.5136635e+02, ...,\n",
       "           0.0000000e+00,  0.0000000e+00,  0.0000000e+00],\n",
       "         [ 2.8190834e+01,  2.5879881e+01,  3.9971344e+01, ...,\n",
       "           0.0000000e+00,  0.0000000e+00,  0.0000000e+00],\n",
       "         ...,\n",
       "         [-1.0993437e+01, -5.0499296e+00,  7.1224375e+00, ...,\n",
       "           0.0000000e+00,  0.0000000e+00,  0.0000000e+00],\n",
       "         [-6.9087219e+00,  9.1962814e-02,  7.1970024e+00, ...,\n",
       "           0.0000000e+00,  0.0000000e+00,  0.0000000e+00],\n",
       "         [-5.3697634e+00, -3.7932420e-01,  9.5489740e-01, ...,\n",
       "           0.0000000e+00,  0.0000000e+00,  0.0000000e+00]], dtype=float32),\n",
       "  'Bengali'],\n",
       " [array([[-5.4273145e+02, -4.4655005e+02, -2.6354449e+02, ...,\n",
       "           0.0000000e+00,  0.0000000e+00,  0.0000000e+00],\n",
       "         [ 8.5125893e+01,  1.2557796e+02,  1.1585376e+02, ...,\n",
       "           0.0000000e+00,  0.0000000e+00,  0.0000000e+00],\n",
       "         [ 3.8923485e+01,  6.5528446e-01, -8.1410538e+01, ...,\n",
       "           0.0000000e+00,  0.0000000e+00,  0.0000000e+00],\n",
       "         ...,\n",
       "         [ 1.5871722e-01, -4.4501883e-01, -9.3275661e+00, ...,\n",
       "           0.0000000e+00,  0.0000000e+00,  0.0000000e+00],\n",
       "         [ 4.2076063e+00,  9.5642395e+00,  2.0810566e+00, ...,\n",
       "           0.0000000e+00,  0.0000000e+00,  0.0000000e+00],\n",
       "         [ 4.0464544e+00,  5.8807840e+00, -3.7009106e+00, ...,\n",
       "           0.0000000e+00,  0.0000000e+00,  0.0000000e+00]], dtype=float32),\n",
       "  'Bengali'],\n",
       " [array([[-580.6701    , -480.8971    , -398.3205    , ...,    0.        ,\n",
       "             0.        ,    0.        ],\n",
       "         [   7.73022   ,    1.1551852 ,   38.399025  , ...,    0.        ,\n",
       "             0.        ,    0.        ],\n",
       "         [  15.806478  ,   47.946327  ,   70.66341   , ...,    0.        ,\n",
       "             0.        ,    0.        ],\n",
       "         ...,\n",
       "         [   0.9738647 ,    0.96812725,   -3.4578586 , ...,    0.        ,\n",
       "             0.        ,    0.        ],\n",
       "         [   1.9829682 ,    1.9108036 ,   -2.66694   , ...,    0.        ,\n",
       "             0.        ,    0.        ],\n",
       "         [  -3.668641  ,   -8.451117  ,  -10.960523  , ...,    0.        ,\n",
       "             0.        ,    0.        ]], dtype=float32),\n",
       "  'Bengali']]"
      ]
     },
     "execution_count": 11,
     "metadata": {},
     "output_type": "execute_result"
    }
   ],
   "source": [
    "extracted_features[:3]"
   ]
  },
  {
   "cell_type": "code",
   "execution_count": 12,
   "id": "63e668f6",
   "metadata": {},
   "outputs": [
    {
     "data": {
      "text/html": [
       "<div>\n",
       "<style scoped>\n",
       "    .dataframe tbody tr th:only-of-type {\n",
       "        vertical-align: middle;\n",
       "    }\n",
       "\n",
       "    .dataframe tbody tr th {\n",
       "        vertical-align: top;\n",
       "    }\n",
       "\n",
       "    .dataframe thead th {\n",
       "        text-align: right;\n",
       "    }\n",
       "</style>\n",
       "<table border=\"1\" class=\"dataframe\">\n",
       "  <thead>\n",
       "    <tr style=\"text-align: right;\">\n",
       "      <th></th>\n",
       "      <th>Vectors</th>\n",
       "      <th>Lang</th>\n",
       "    </tr>\n",
       "  </thead>\n",
       "  <tbody>\n",
       "    <tr>\n",
       "      <th>0</th>\n",
       "      <td>[[-529.46625, -454.46738, -393.08878, -297.311...</td>\n",
       "      <td>Bengali</td>\n",
       "    </tr>\n",
       "    <tr>\n",
       "      <th>1</th>\n",
       "      <td>[[-542.73145, -446.55005, -263.5445, -161.7895...</td>\n",
       "      <td>Bengali</td>\n",
       "    </tr>\n",
       "    <tr>\n",
       "      <th>2</th>\n",
       "      <td>[[-580.6701, -480.8971, -398.3205, -236.64789,...</td>\n",
       "      <td>Bengali</td>\n",
       "    </tr>\n",
       "    <tr>\n",
       "      <th>3</th>\n",
       "      <td>[[-423.3275, -332.37094, -332.72223, -315.9054...</td>\n",
       "      <td>Bengali</td>\n",
       "    </tr>\n",
       "    <tr>\n",
       "      <th>4</th>\n",
       "      <td>[[-247.7952, -113.57214, -67.81812, -92.65014,...</td>\n",
       "      <td>Bengali</td>\n",
       "    </tr>\n",
       "  </tbody>\n",
       "</table>\n",
       "</div>"
      ],
      "text/plain": [
       "                                             Vectors     Lang\n",
       "0  [[-529.46625, -454.46738, -393.08878, -297.311...  Bengali\n",
       "1  [[-542.73145, -446.55005, -263.5445, -161.7895...  Bengali\n",
       "2  [[-580.6701, -480.8971, -398.3205, -236.64789,...  Bengali\n",
       "3  [[-423.3275, -332.37094, -332.72223, -315.9054...  Bengali\n",
       "4  [[-247.7952, -113.57214, -67.81812, -92.65014,...  Bengali"
      ]
     },
     "execution_count": 12,
     "metadata": {},
     "output_type": "execute_result"
    }
   ],
   "source": [
    "extracted_features_df=pd.DataFrame(extracted_features,columns=['Vectors','Lang'])\n",
    "extracted_features_df.head(5) "
   ]
  },
  {
   "cell_type": "code",
   "execution_count": 13,
   "id": "8e47a69a",
   "metadata": {},
   "outputs": [],
   "source": [
    "extracted_features_df.to_csv('extract.csv')"
   ]
  },
  {
   "cell_type": "code",
   "execution_count": 14,
   "id": "e9cf2cb4",
   "metadata": {},
   "outputs": [
    {
     "name": "stdout",
     "output_type": "stream",
     "text": [
      "                                               Vectors      Lang\n",
      "183  [[-545.7878, -433.51703, -356.90253, -320.0292...      Urdu\n",
      "256  [[-366.3032, -239.98183, -185.54884, -166.5596...   Marathi\n",
      "20   [[-528.76117, -452.0688, -415.1206, -415.4161,...   Bengali\n",
      "3    [[-423.3275, -332.37094, -332.72223, -315.9054...   Bengali\n",
      "267  [[-233.02737, -118.366455, -113.114815, -150.5...   Marathi\n",
      "..                                                 ...       ...\n",
      "5    [[-492.54364, -371.88412, -327.3182, -318.1049...   Bengali\n",
      "33   [[-290.89963, -167.47049, -154.24762, -192.142...  Gujrathi\n",
      "93   [[-245.61218, -113.57858, -81.45341, -100.0937...     Hindi\n",
      "178  [[-501.39587, -412.85544, -302.69095, -251.694...      Urdu\n",
      "254  [[-473.8204, -340.9154, -293.85962, -286.965, ...   Marathi\n",
      "\n",
      "[305 rows x 2 columns]\n"
     ]
    }
   ],
   "source": [
    "shuffled = extracted_features_df.sample(frac=1)\n",
    "print(shuffled) # ensures randomization before splitting into training and testing sets"
   ]
  },
  {
   "cell_type": "code",
   "execution_count": 15,
   "id": "62f6aaa9",
   "metadata": {},
   "outputs": [],
   "source": [
    "#split into independent and dependent variables\n",
    "X=np.array(shuffled['Vectors'].tolist())\n",
    "y=np.array(shuffled['Lang'].tolist())"
   ]
  },
  {
   "cell_type": "code",
   "execution_count": 16,
   "id": "659aae84",
   "metadata": {},
   "outputs": [
    {
     "data": {
      "text/plain": [
       "dtype('float32')"
      ]
     },
     "execution_count": 16,
     "metadata": {},
     "output_type": "execute_result"
    }
   ],
   "source": [
    "X.dtype"
   ]
  },
  {
   "cell_type": "code",
   "execution_count": 17,
   "id": "8a106008",
   "metadata": {},
   "outputs": [
    {
     "data": {
      "text/plain": [
       "array([[0., 0., 0., ..., 0., 0., 1.],\n",
       "       [0., 0., 0., ..., 0., 0., 0.],\n",
       "       [1., 0., 0., ..., 0., 0., 0.],\n",
       "       ...,\n",
       "       [0., 0., 1., ..., 0., 0., 0.],\n",
       "       [0., 0., 0., ..., 0., 0., 1.],\n",
       "       [0., 0., 0., ..., 0., 0., 0.]], dtype=float32)"
      ]
     },
     "execution_count": 17,
     "metadata": {},
     "output_type": "execute_result"
    }
   ],
   "source": [
    "#Label encoding converting categorical labels into a binary matrix(one-hot encoding)\n",
    "from tensorflow.keras.utils import to_categorical #converts vectors into binary matrix\n",
    "from sklearn.preprocessing import LabelEncoder\n",
    "labelencoder=LabelEncoder()\n",
    "y=to_categorical(labelencoder.fit_transform(y))\n",
    "y #now contains the labels in a one-hot encoded format suitable for training neural network"
   ]
  },
  {
   "cell_type": "code",
   "execution_count": 18,
   "id": "e8a7cbad",
   "metadata": {},
   "outputs": [],
   "source": [
    "# TRAIN TEST SPLIT\n",
    "\n",
    "\n",
    "import tensorflow\n",
    "import keras\n",
    "import tensorflow.keras.utils\n",
    "from tensorflow.keras.utils import to_categorical\n"
   ]
  },
  {
   "cell_type": "code",
   "execution_count": 19,
   "id": "cb2ab90e",
   "metadata": {},
   "outputs": [],
   "source": [
    "from sklearn.model_selection import train_test_split"
   ]
  },
  {
   "cell_type": "code",
   "execution_count": 20,
   "id": "13426966",
   "metadata": {},
   "outputs": [],
   "source": [
    "X_train, X_test, y_train, y_test = train_test_split(X, y, test_size=0.2) #20% FOR TESTING AND 80% FOR TRAINING\n",
    "X_train, X_validation, y_train, y_validation = train_test_split(X_train, y_train, test_size=0.2) # TRAINING SET IS FURTHER SPLITS INTO TRAINING AND VALIDATION SETSS"
   ]
  },
  {
   "cell_type": "code",
   "execution_count": 21,
   "id": "6335e5a6",
   "metadata": {},
   "outputs": [
    {
     "data": {
      "text/plain": [
       "(195, 20, 2000)"
      ]
     },
     "execution_count": 21,
     "metadata": {},
     "output_type": "execute_result"
    }
   ],
   "source": [
    "X_train.shape #no of rows, mfcc, max length"
   ]
  },
  {
   "cell_type": "markdown",
   "id": "d7ff8ee9",
   "metadata": {},
   "source": [
    "# Reshaping data"
   ]
  },
  {
   "cell_type": "code",
   "execution_count": 22,
   "id": "ca9e51da",
   "metadata": {},
   "outputs": [],
   "source": [
    "feature_dim_1 = MFCC_NUM #20\n",
    "feature_dim_2 = MFCC_MAX_LEN #2000\n",
    "channel = 1 #mono audio\n",
    "epochs = 70\n",
    "batch_size = 100\n",
    "verbose = 1 #we'll see a progress bar for each epoch\n",
    "num_classes = 10"
   ]
  },
  {
   "cell_type": "code",
   "execution_count": 23,
   "id": "34e8fe16",
   "metadata": {},
   "outputs": [],
   "source": [
    "X_train = X_train.reshape(X_train.shape[0], feature_dim_1, feature_dim_2, channel) #batch_size, height, width, channels\n",
    "X_test = X_test.reshape(X_test.shape[0], feature_dim_1, feature_dim_2, channel)\n"
   ]
  },
  {
   "cell_type": "code",
   "execution_count": 24,
   "id": "f9622a31",
   "metadata": {},
   "outputs": [
    {
     "data": {
      "text/plain": [
       "(195, 20, 2000, 1)"
      ]
     },
     "execution_count": 24,
     "metadata": {},
     "output_type": "execute_result"
    }
   ],
   "source": [
    "X_train.shape"
   ]
  },
  {
   "cell_type": "markdown",
   "id": "9e1bbeb3",
   "metadata": {},
   "source": [
    "# Building Model"
   ]
  },
  {
   "cell_type": "code",
   "execution_count": 25,
   "id": "cd8b141a",
   "metadata": {},
   "outputs": [],
   "source": [
    "from keras.models import Sequential\n",
    "from keras.layers import Dense, Dropout, Flatten, Conv2D, MaxPooling2D\n",
    "from keras.utils import to_categorical\n",
    "from keras import optimizers"
   ]
  },
  {
   "cell_type": "code",
   "execution_count": 26,
   "id": "16afa013",
   "metadata": {},
   "outputs": [],
   "source": [
    "    model = Sequential()\n",
    "    model.add(Conv2D(32, kernel_size=(2, 2), activation='relu', input_shape=(feature_dim_1, feature_dim_2, channel)))\n",
    "    model.add(Conv2D(48, kernel_size=(2, 2), activation='relu')) #48 neurons\n",
    "    \n",
    "    model.add(MaxPooling2D(pool_size=(2, 2)))\n",
    "    model.add(Dropout(0.25)) #randomly sets a fraction of input units to 0, to prevent overfitting\n",
    "    model.add(Flatten()) # convolutional layer to densly connected layers\n",
    "    model.add(Dense(128, activation='relu'))\n",
    "    model.add(Dropout(0.25))\n",
    "    model.add(Dense(64, activation='relu'))\n",
    "    model.add(Dropout(0.4))\n",
    "    model.add(Dense(num_classes, activation='softmax'))\n",
    "    "
   ]
  },
  {
   "cell_type": "code",
   "execution_count": 27,
   "id": "0717208c",
   "metadata": {},
   "outputs": [
    {
     "name": "stdout",
     "output_type": "stream",
     "text": [
      "Model: \"sequential\"\n",
      "_________________________________________________________________\n",
      " Layer (type)                Output Shape              Param #   \n",
      "=================================================================\n",
      " conv2d (Conv2D)             (None, 19, 1999, 32)      160       \n",
      "                                                                 \n",
      " conv2d_1 (Conv2D)           (None, 18, 1998, 48)      6192      \n",
      "                                                                 \n",
      " max_pooling2d (MaxPooling2  (None, 9, 999, 48)        0         \n",
      " D)                                                              \n",
      "                                                                 \n",
      " dropout (Dropout)           (None, 9, 999, 48)        0         \n",
      "                                                                 \n",
      " flatten (Flatten)           (None, 431568)            0         \n",
      "                                                                 \n",
      " dense (Dense)               (None, 128)               55240832  \n",
      "                                                                 \n",
      " dropout_1 (Dropout)         (None, 128)               0         \n",
      "                                                                 \n",
      " dense_1 (Dense)             (None, 64)                8256      \n",
      "                                                                 \n",
      " dropout_2 (Dropout)         (None, 64)                0         \n",
      "                                                                 \n",
      " dense_2 (Dense)             (None, 10)                650       \n",
      "                                                                 \n",
      "=================================================================\n",
      "Total params: 55256090 (210.79 MB)\n",
      "Trainable params: 55256090 (210.79 MB)\n",
      "Non-trainable params: 0 (0.00 Byte)\n",
      "_________________________________________________________________\n"
     ]
    }
   ],
   "source": [
    "model.summary()"
   ]
  },
  {
   "cell_type": "markdown",
   "id": "97d73503",
   "metadata": {},
   "source": [
    "# Model compiling and fitting"
   ]
  },
  {
   "cell_type": "code",
   "execution_count": 28,
   "id": "5eccf6bf",
   "metadata": {},
   "outputs": [],
   "source": [
    "import tensorflow as tf"
   ]
  },
  {
   "cell_type": "code",
   "execution_count": 29,
   "id": "39c861d1",
   "metadata": {},
   "outputs": [],
   "source": [
    "optimizer = tf.keras.optimizers.legacy.SGD(learning_rate=0.002, decay=1e-6, momentum=0.9, nesterov=True)"
   ]
  },
  {
   "cell_type": "code",
   "execution_count": 30,
   "id": "473a1113",
   "metadata": {},
   "outputs": [],
   "source": [
    "model.compile(optimizer='sgd', loss='categorical_crossentropy', metrics=['accuracy'])"
   ]
  },
  {
   "cell_type": "code",
   "execution_count": 31,
   "id": "fdaa0cc5",
   "metadata": {},
   "outputs": [
    {
     "name": "stdout",
     "output_type": "stream",
     "text": [
      "Epoch 1/70\n",
      "2/2 [==============================] - 19s 12s/step - loss: 115.8494 - accuracy: 0.1179 - val_loss: 56.5889 - val_accuracy: 0.1311\n",
      "Epoch 2/70\n",
      "2/2 [==============================] - 17s 10s/step - loss: 33.7788 - accuracy: 0.1128 - val_loss: 2.3047 - val_accuracy: 0.0656\n",
      "Epoch 3/70\n",
      "2/2 [==============================] - 11s 8s/step - loss: 2.3010 - accuracy: 0.1282 - val_loss: 2.3002 - val_accuracy: 0.0656\n",
      "Epoch 4/70\n",
      "2/2 [==============================] - 11s 5s/step - loss: 2.2983 - accuracy: 0.1538 - val_loss: 2.2942 - val_accuracy: 0.1967\n",
      "Epoch 5/70\n",
      "2/2 [==============================] - 16s 8s/step - loss: 2.2874 - accuracy: 0.1744 - val_loss: 2.2871 - val_accuracy: 0.2623\n",
      "Epoch 6/70\n",
      "2/2 [==============================] - 7s 4s/step - loss: 2.2969 - accuracy: 0.1641 - val_loss: 2.2863 - val_accuracy: 0.2131\n",
      "Epoch 7/70\n",
      "2/2 [==============================] - 11s 5s/step - loss: 2.2805 - accuracy: 0.1692 - val_loss: 2.2814 - val_accuracy: 0.2131\n",
      "Epoch 8/70\n",
      "2/2 [==============================] - 7s 4s/step - loss: 2.2629 - accuracy: 0.1744 - val_loss: 2.2783 - val_accuracy: 0.1475\n",
      "Epoch 9/70\n",
      "2/2 [==============================] - 7s 3s/step - loss: 2.2889 - accuracy: 0.1897 - val_loss: 2.2820 - val_accuracy: 0.1639\n",
      "Epoch 10/70\n",
      "2/2 [==============================] - 7s 3s/step - loss: 2.2572 - accuracy: 0.2103 - val_loss: 2.2681 - val_accuracy: 0.1148\n",
      "Epoch 11/70\n",
      "2/2 [==============================] - 15s 11s/step - loss: 2.2491 - accuracy: 0.1744 - val_loss: 2.2604 - val_accuracy: 0.1475\n",
      "Epoch 12/70\n",
      "2/2 [==============================] - 7s 4s/step - loss: 2.2025 - accuracy: 0.2308 - val_loss: 2.5950 - val_accuracy: 0.0984\n",
      "Epoch 13/70\n",
      "2/2 [==============================] - 11s 3s/step - loss: 2.5987 - accuracy: 0.1692 - val_loss: 2.2816 - val_accuracy: 0.0984\n",
      "Epoch 14/70\n",
      "2/2 [==============================] - 6s 3s/step - loss: 2.2652 - accuracy: 0.1949 - val_loss: 2.2827 - val_accuracy: 0.1311\n",
      "Epoch 15/70\n",
      "2/2 [==============================] - 6s 3s/step - loss: 2.2147 - accuracy: 0.2359 - val_loss: 2.2825 - val_accuracy: 0.1148\n",
      "Epoch 16/70\n",
      "2/2 [==============================] - 11s 3s/step - loss: 2.2326 - accuracy: 0.2000 - val_loss: 2.2726 - val_accuracy: 0.1148\n",
      "Epoch 17/70\n",
      "2/2 [==============================] - 11s 3s/step - loss: 2.2064 - accuracy: 0.2513 - val_loss: 2.2785 - val_accuracy: 0.1639\n",
      "Epoch 18/70\n",
      "2/2 [==============================] - 6s 3s/step - loss: 2.1896 - accuracy: 0.2821 - val_loss: 2.2690 - val_accuracy: 0.1475\n",
      "Epoch 19/70\n",
      "2/2 [==============================] - 6s 3s/step - loss: 2.1242 - accuracy: 0.2513 - val_loss: 2.2508 - val_accuracy: 0.0984\n",
      "Epoch 20/70\n",
      "2/2 [==============================] - 6s 3s/step - loss: 2.0843 - accuracy: 0.2923 - val_loss: 2.2363 - val_accuracy: 0.1311\n",
      "Epoch 21/70\n",
      "2/2 [==============================] - 6s 3s/step - loss: 2.0306 - accuracy: 0.2872 - val_loss: 2.2278 - val_accuracy: 0.1311\n",
      "Epoch 22/70\n",
      "2/2 [==============================] - 7s 3s/step - loss: 1.9627 - accuracy: 0.3333 - val_loss: 2.1982 - val_accuracy: 0.1803\n",
      "Epoch 23/70\n",
      "2/2 [==============================] - 7s 3s/step - loss: 1.7384 - accuracy: 0.4205 - val_loss: 2.2314 - val_accuracy: 0.1475\n",
      "Epoch 24/70\n",
      "2/2 [==============================] - 7s 4s/step - loss: 1.7803 - accuracy: 0.4103 - val_loss: 2.2124 - val_accuracy: 0.1639\n",
      "Epoch 25/70\n",
      "2/2 [==============================] - 7s 3s/step - loss: 1.6978 - accuracy: 0.3846 - val_loss: 2.1375 - val_accuracy: 0.2131\n",
      "Epoch 26/70\n",
      "2/2 [==============================] - 7s 4s/step - loss: 1.6322 - accuracy: 0.4256 - val_loss: 2.1914 - val_accuracy: 0.1803\n",
      "Epoch 27/70\n",
      "2/2 [==============================] - 16s 8s/step - loss: 1.5488 - accuracy: 0.5026 - val_loss: 2.0559 - val_accuracy: 0.3607\n",
      "Epoch 28/70\n",
      "2/2 [==============================] - 12s 9s/step - loss: 1.3881 - accuracy: 0.5590 - val_loss: 2.3062 - val_accuracy: 0.1148\n",
      "Epoch 29/70\n",
      "2/2 [==============================] - 17s 12s/step - loss: 1.6684 - accuracy: 0.4718 - val_loss: 2.0402 - val_accuracy: 0.3443\n",
      "Epoch 30/70\n",
      "2/2 [==============================] - 18s 12s/step - loss: 1.3103 - accuracy: 0.6205 - val_loss: 2.1267 - val_accuracy: 0.1803\n",
      "Epoch 31/70\n",
      "2/2 [==============================] - 7s 4s/step - loss: 1.1497 - accuracy: 0.6308 - val_loss: 2.0926 - val_accuracy: 0.2787\n",
      "Epoch 32/70\n",
      "2/2 [==============================] - 6s 3s/step - loss: 1.1617 - accuracy: 0.5897 - val_loss: 2.1741 - val_accuracy: 0.2131\n",
      "Epoch 33/70\n",
      "2/2 [==============================] - 6s 3s/step - loss: 1.0983 - accuracy: 0.6103 - val_loss: 2.0877 - val_accuracy: 0.3443\n",
      "Epoch 34/70\n",
      "2/2 [==============================] - 7s 4s/step - loss: 1.0483 - accuracy: 0.6564 - val_loss: 2.1720 - val_accuracy: 0.1967\n",
      "Epoch 35/70\n",
      "2/2 [==============================] - 7s 4s/step - loss: 0.9150 - accuracy: 0.6923 - val_loss: 2.1879 - val_accuracy: 0.1967\n",
      "Epoch 36/70\n",
      "2/2 [==============================] - 7s 3s/step - loss: 0.9011 - accuracy: 0.7282 - val_loss: 2.0677 - val_accuracy: 0.2459\n",
      "Epoch 37/70\n",
      "2/2 [==============================] - 7s 4s/step - loss: 0.7947 - accuracy: 0.7231 - val_loss: 1.9844 - val_accuracy: 0.2623\n",
      "Epoch 38/70\n",
      "2/2 [==============================] - 6s 3s/step - loss: 0.6425 - accuracy: 0.8205 - val_loss: 2.0317 - val_accuracy: 0.2787\n",
      "Epoch 39/70\n",
      "2/2 [==============================] - 6s 3s/step - loss: 0.7699 - accuracy: 0.7436 - val_loss: 2.4284 - val_accuracy: 0.1967\n",
      "Epoch 40/70\n",
      "2/2 [==============================] - 7s 3s/step - loss: 0.8140 - accuracy: 0.7333 - val_loss: 1.9004 - val_accuracy: 0.3934\n",
      "Epoch 41/70\n",
      "2/2 [==============================] - 11s 8s/step - loss: 0.7172 - accuracy: 0.7641 - val_loss: 1.9132 - val_accuracy: 0.3279\n",
      "Epoch 42/70\n",
      "2/2 [==============================] - 15s 7s/step - loss: 0.6155 - accuracy: 0.7846 - val_loss: 2.0874 - val_accuracy: 0.2459\n",
      "Epoch 43/70\n",
      "2/2 [==============================] - 15s 5s/step - loss: 0.5784 - accuracy: 0.8103 - val_loss: 2.0382 - val_accuracy: 0.3770\n",
      "Epoch 44/70\n",
      "2/2 [==============================] - 12s 3s/step - loss: 0.4654 - accuracy: 0.8462 - val_loss: 2.0699 - val_accuracy: 0.3115\n",
      "Epoch 45/70\n",
      "2/2 [==============================] - 6s 3s/step - loss: 0.5133 - accuracy: 0.8308 - val_loss: 2.0493 - val_accuracy: 0.3115\n",
      "Epoch 46/70\n",
      "2/2 [==============================] - 6s 3s/step - loss: 0.4634 - accuracy: 0.8513 - val_loss: 2.0754 - val_accuracy: 0.2623\n",
      "Epoch 47/70\n",
      "2/2 [==============================] - 6s 3s/step - loss: 0.4358 - accuracy: 0.8615 - val_loss: 2.1880 - val_accuracy: 0.2295\n",
      "Epoch 48/70\n",
      "2/2 [==============================] - 7s 4s/step - loss: 0.4277 - accuracy: 0.8564 - val_loss: 2.4628 - val_accuracy: 0.2131\n",
      "Epoch 49/70\n",
      "2/2 [==============================] - 7s 4s/step - loss: 0.5393 - accuracy: 0.8051 - val_loss: 1.9485 - val_accuracy: 0.3934\n",
      "Epoch 50/70\n",
      "2/2 [==============================] - 7s 3s/step - loss: 0.4509 - accuracy: 0.8410 - val_loss: 1.9844 - val_accuracy: 0.3443\n",
      "Epoch 51/70\n",
      "2/2 [==============================] - 6s 3s/step - loss: 0.4202 - accuracy: 0.8718 - val_loss: 2.1797 - val_accuracy: 0.2951\n",
      "Epoch 52/70\n",
      "2/2 [==============================] - 6s 3s/step - loss: 0.3775 - accuracy: 0.8718 - val_loss: 2.2641 - val_accuracy: 0.2623\n",
      "Epoch 53/70\n",
      "2/2 [==============================] - 6s 3s/step - loss: 0.3673 - accuracy: 0.8872 - val_loss: 2.1854 - val_accuracy: 0.2951\n",
      "Epoch 54/70\n",
      "2/2 [==============================] - 10s 7s/step - loss: 0.3061 - accuracy: 0.9128 - val_loss: 2.2156 - val_accuracy: 0.2459\n",
      "Epoch 55/70\n",
      "2/2 [==============================] - 8s 3s/step - loss: 0.2889 - accuracy: 0.9026 - val_loss: 2.5050 - val_accuracy: 0.2295\n",
      "Epoch 56/70\n",
      "2/2 [==============================] - 16s 7s/step - loss: 0.4544 - accuracy: 0.8308 - val_loss: 2.2273 - val_accuracy: 0.3115\n",
      "Epoch 57/70\n",
      "2/2 [==============================] - 14s 6s/step - loss: 0.3132 - accuracy: 0.8667 - val_loss: 2.2072 - val_accuracy: 0.3115\n",
      "Epoch 58/70\n",
      "2/2 [==============================] - 10s 7s/step - loss: 0.2673 - accuracy: 0.9128 - val_loss: 2.2197 - val_accuracy: 0.3443\n",
      "Epoch 59/70\n",
      "2/2 [==============================] - 14s 10s/step - loss: 0.3692 - accuracy: 0.8615 - val_loss: 2.1451 - val_accuracy: 0.3115\n",
      "Epoch 60/70\n"
     ]
    },
    {
     "name": "stdout",
     "output_type": "stream",
     "text": [
      "2/2 [==============================] - 15s 9s/step - loss: 0.2496 - accuracy: 0.9231 - val_loss: 2.4546 - val_accuracy: 0.2787\n",
      "Epoch 61/70\n",
      "2/2 [==============================] - 14s 7s/step - loss: 0.2469 - accuracy: 0.9128 - val_loss: 2.3633 - val_accuracy: 0.2951\n",
      "Epoch 62/70\n",
      "2/2 [==============================] - 16s 9s/step - loss: 0.2382 - accuracy: 0.9333 - val_loss: 2.3381 - val_accuracy: 0.2459\n",
      "Epoch 63/70\n",
      "2/2 [==============================] - 7s 3s/step - loss: 0.2240 - accuracy: 0.9179 - val_loss: 2.3526 - val_accuracy: 0.2295\n",
      "Epoch 64/70\n",
      "2/2 [==============================] - 17s 9s/step - loss: 0.3258 - accuracy: 0.8872 - val_loss: 2.0926 - val_accuracy: 0.3115\n",
      "Epoch 65/70\n",
      "2/2 [==============================] - 16s 9s/step - loss: 0.2687 - accuracy: 0.9128 - val_loss: 2.2438 - val_accuracy: 0.2787\n",
      "Epoch 66/70\n",
      "2/2 [==============================] - 15s 8s/step - loss: 0.2894 - accuracy: 0.9077 - val_loss: 2.5153 - val_accuracy: 0.2459\n",
      "Epoch 67/70\n",
      "2/2 [==============================] - 16s 9s/step - loss: 0.3441 - accuracy: 0.8821 - val_loss: 2.4123 - val_accuracy: 0.2295\n",
      "Epoch 68/70\n",
      "2/2 [==============================] - 10s 7s/step - loss: 0.2748 - accuracy: 0.9282 - val_loss: 2.2271 - val_accuracy: 0.2951\n",
      "Epoch 69/70\n",
      "2/2 [==============================] - 16s 8s/step - loss: 0.2733 - accuracy: 0.9231 - val_loss: 2.1794 - val_accuracy: 0.3115\n",
      "Epoch 70/70\n",
      "2/2 [==============================] - 14s 7s/step - loss: 0.1931 - accuracy: 0.9385 - val_loss: 2.3218 - val_accuracy: 0.3279\n"
     ]
    },
    {
     "data": {
      "text/plain": [
       "<keras.src.callbacks.History at 0x1e9af7cc590>"
      ]
     },
     "execution_count": 31,
     "metadata": {},
     "output_type": "execute_result"
    }
   ],
   "source": [
    "model.fit(X_train, y_train, batch_size=batch_size, epochs=epochs, verbose=verbose, validation_data=(X_test, y_test))"
   ]
  },
  {
   "cell_type": "code",
   "execution_count": 32,
   "id": "835cd214",
   "metadata": {},
   "outputs": [
    {
     "name": "stdout",
     "output_type": "stream",
     "text": [
      "Average Accuracy: 0.6590149253731343\n",
      "Average Loss: 3.2864\n",
      "Average Validation Loss: 3.7004214285714276\n",
      "Average Validation Accuracy: 0.25373076923076926\n"
     ]
    }
   ],
   "source": [
    "import numpy as np\n",
    "\n",
    "# Training history (replace ellipses with actual values)\n",
    "history = {\n",
    "    'loss': [100.0109, 66.0481, 2.3037, 2.2965, 2.2934, 2.2820, 2.2765, 2.2735, 2.2587, 2.2380, 2.2066, 2.2253, 2.1866, 2.0734, 2.1318, 2.0472, 1.9417, 1.6988, 1.7613, 1.6369, 1.3748, 1.5384, 1.3091, 1.1979, 1.0891, 1.2741, 1.0035, 0.9143, 0.7428, 0.7906, 0.7121, 0.6486, 0.5937, 0.6640, 0.6779, 0.7880, 0.5301, 0.3503, 0.4091, 0.4081, 0.5024, 0.3913, 0.3286, 0.3497, 0.3211, 0.5264, 0.5718, 0.4419, 0.3229, 0.3142, 0.2939, 0.3247, 0.2644, 0.3081, 0.3357, 0.1992, 0.3641, 0.3025, 0.2529, 0.2037, 0.2258, 0.2048, 0.2198, 0.1834, 0.1523, 0.1694, 0.2048, 0.1747, 0.2553, 0.1308],\n",
    "    'accuracy': [0.0821, 0.0769, 0.1026, 0.1179, 0.1333, 0.1897, 0.1846, 0.2103, 0.2051, 0.2051, 0.2410, 0.2308, 0.2923, 0.3077, 0.3179, 0.3436, 0.3641, 0.4154, 0.4359, 0.5282, 0.5179, 0.4872, 0.6000, 0.6359, 0.6154, 0.5590, 0.7590, 0.7333, 0.7744, 0.7128, 0.8000, 0.8154, 0.8154, 0.7949, 0.8205, 0.7282, 0.8410, 0.9231, 0.8564, 0.8718, 0.8256, 0.8872, 0.9026, 0.8923, 0.8923, 0.8564, 0.8462, 0.8462, 0.8872, 0.9128, 0.9128, 0.9231, 0.9333, 0.8872, 0.8872, 0.9385, 0.8872, 0.9231, 0.9128, 0.9385, 0.9436, 0.9333, 0.9487, 0.9436, 0.9436, 0.9385, 0.9641],\n",
    "    'val_loss': [87.5516, 2.3065, 2.3032, 2.3013, 2.2983, 2.2958, 2.2978, 2.2969, 2.2969, 2.2981, 2.2664, 2.2807, 2.2648, 2.2623, 2.2615, 2.2173, 2.1122, 2.1775, 2.0659, 2.0950, 2.1155, 2.1287, 2.0805, 2.0779, 2.3036, 2.2094, 2.3361, 2.3646, 2.4084, 2.3332, 2.2917, 2.4477, 2.4504, 2.4589, 2.2435, 2.2647, 2.4853, 2.4458, 2.6382, 2.4478, 2.3159, 2.6175, 2.4832, 2.5455, 2.5015, 2.3418, 2.6516, 2.5386, 2.8824, 2.7420, 3.0627, 2.7612, 2.8327, 3.0515, 2.8256, 3.0752, 2.3725, 2.5851, 2.7403, 2.9571, 2.9129, 2.7034, 2.7670, 2.9406, 3.0565, 2.8440, 2.8166, 2.9112, 2.5951, 2.8164],\n",
    "    'val_accuracy': [0.0820, 0.0820, 0.1148, 0.1475, 0.1475, 0.1475, 0.1639, 0.1148, 0.1148, 0.1148, 0.1475, 0.1475, 0.1803, 0.1639, 0.1475, 0.1803, 0.2131, 0.1967, 0.2459, 0.2295, 0.2459, 0.1803, 0.2787, 0.1967, 0.1475, 0.2131, 0.2951, 0.2787, 0.2623, 0.2623, 0.3115, 0.3279, 0.3115, 0.3115, 0.3279, 0.2951, 0.2459, 0.3115, 0.3115, 0.3115, 0.2787, 0.3279, 0.3115, 0.3443, 0.3115, 0.3279, 0.3607, 0.3443, 0.3279, 0.3115, 0.3279, 0.3115, 0.3279, 0.3115, 0.3115, 0.2951, 0.2623, 0.3279, 0.3115, 0.3279, 0.2951, 0.3607, 0.3443, 0.3279, 0.2951]\n",
    "}\n",
    "\n",
    "\n",
    "# Calculate averages\n",
    "avg_accuracy = np.mean(history['accuracy'])\n",
    "avg_loss = np.mean(history['loss'])\n",
    "avg_val_loss = np.mean(history['val_loss'])\n",
    "avg_val_accuracy = np.mean(history['val_accuracy'])\n",
    "\n",
    "print(f'Average Accuracy: {avg_accuracy}')\n",
    "print(f'Average Loss: {avg_loss}')\n",
    "print(f'Average Validation Loss: {avg_val_loss}')\n",
    "print(f'Average Validation Accuracy: {avg_val_accuracy}')\n"
   ]
  },
  {
   "cell_type": "code",
   "execution_count": 33,
   "id": "61ec1a27",
   "metadata": {},
   "outputs": [],
   "source": [
    "X_validation = X_validation.reshape(X_validation.shape[0], feature_dim_1, feature_dim_2, channel)\n"
   ]
  },
  {
   "cell_type": "code",
   "execution_count": 34,
   "id": "dc9e824c",
   "metadata": {},
   "outputs": [
    {
     "name": "stdout",
     "output_type": "stream",
     "text": [
      "2/2 [==============================] - 0s 107ms/step\n"
     ]
    },
    {
     "data": {
      "text/plain": [
       "array([0.4665762 , 0.0013327 , 0.01514385, 0.00262244, 0.03899559,\n",
       "       0.38371605, 0.02492066, 0.00429777, 0.03431707, 0.02807754],\n",
       "      dtype=float32)"
      ]
     },
     "execution_count": 34,
     "metadata": {},
     "output_type": "execute_result"
    }
   ],
   "source": [
    "model.predict(X_validation)[2]"
   ]
  },
  {
   "cell_type": "code",
   "execution_count": 35,
   "id": "1d6e7591",
   "metadata": {},
   "outputs": [
    {
     "data": {
      "text/plain": [
       "array([0., 0., 0., 0., 0., 1., 0., 0., 0., 0.], dtype=float32)"
      ]
     },
     "execution_count": 35,
     "metadata": {},
     "output_type": "execute_result"
    }
   ],
   "source": [
    "y_validation[2]"
   ]
  },
  {
   "cell_type": "markdown",
   "id": "c2d798be",
   "metadata": {},
   "source": [
    "# Saving model"
   ]
  },
  {
   "cell_type": "code",
   "execution_count": 36,
   "id": "e66dda37",
   "metadata": {},
   "outputs": [],
   "source": [
    "from tensorflow.keras.models import load_model"
   ]
  },
  {
   "cell_type": "code",
   "execution_count": 37,
   "id": "c13d5d34",
   "metadata": {},
   "outputs": [
    {
     "name": "stderr",
     "output_type": "stream",
     "text": [
      "C:\\Users\\theer\\anaconda3\\Lib\\site-packages\\keras\\src\\engine\\training.py:3079: UserWarning: You are saving your model as an HDF5 file via `model.save()`. This file format is considered legacy. We recommend using instead the native Keras format, e.g. `model.save('my_model.keras')`.\n",
      "  saving_api.save_model(\n"
     ]
    }
   ],
   "source": [
    "model.save('./Model/langCnn1.hdf5')"
   ]
  },
  {
   "cell_type": "code",
   "execution_count": 38,
   "id": "1b4a85bb",
   "metadata": {},
   "outputs": [],
   "source": [
    "model=tensorflow.keras.models.load_model('./Model/langCnn1.hdf5')"
   ]
  },
  {
   "cell_type": "code",
   "execution_count": 39,
   "id": "3bc407ad",
   "metadata": {},
   "outputs": [],
   "source": [
    "def features_extractors(file,max_len=2000):\n",
    "    src = file\n",
    "    dst = \"./Data/test2.wav\"\n",
    "    sound = AudioSegment.from_mp3(src)\n",
    "    sound.export(dst, format=\"wav\")\n",
    "    audio, sample_rate = librosa.load(dst, mono=True,sr=44100) \n",
    "    audio=audio[::3]\n",
    "    mfcc = librosa.feature.mfcc(y=audio, sr=44100, n_mfcc=20)\n",
    "    if (max_len > mfcc.shape[1]):\n",
    "        pad_width = max_len - mfcc.shape[1]\n",
    "        mfcc = np.pad(mfcc, pad_width=((0, 0), (0, pad_width)), mode='constant')\n",
    "\n",
    "    # Else cutoff the remaining parts\n",
    "    else:\n",
    "        mfcc = mfcc[:, :max_len]\n",
    "    \n",
    "    return mfcc"
   ]
  },
  {
   "cell_type": "markdown",
   "id": "6f487150",
   "metadata": {},
   "source": [
    "## CLASSIFICATION OF A SINGLE TEST AUDIO"
   ]
  },
  {
   "cell_type": "code",
   "execution_count": 40,
   "id": "d5d5266c",
   "metadata": {},
   "outputs": [],
   "source": [
    "m=features_extractors('307.mp3')"
   ]
  },
  {
   "cell_type": "code",
   "execution_count": 41,
   "id": "27b21b9c",
   "metadata": {},
   "outputs": [],
   "source": [
    "k=[]\n",
    "k.append([m])"
   ]
  },
  {
   "cell_type": "code",
   "execution_count": 42,
   "id": "f9092e52",
   "metadata": {},
   "outputs": [
    {
     "data": {
      "text/html": [
       "<div>\n",
       "<style scoped>\n",
       "    .dataframe tbody tr th:only-of-type {\n",
       "        vertical-align: middle;\n",
       "    }\n",
       "\n",
       "    .dataframe tbody tr th {\n",
       "        vertical-align: top;\n",
       "    }\n",
       "\n",
       "    .dataframe thead th {\n",
       "        text-align: right;\n",
       "    }\n",
       "</style>\n",
       "<table border=\"1\" class=\"dataframe\">\n",
       "  <thead>\n",
       "    <tr style=\"text-align: right;\">\n",
       "      <th></th>\n",
       "      <th>Vectors</th>\n",
       "    </tr>\n",
       "  </thead>\n",
       "  <tbody>\n",
       "    <tr>\n",
       "      <th>0</th>\n",
       "      <td>[[-318.7899, -283.8649, -299.79358, -352.42856...</td>\n",
       "    </tr>\n",
       "  </tbody>\n",
       "</table>\n",
       "</div>"
      ],
      "text/plain": [
       "                                             Vectors\n",
       "0  [[-318.7899, -283.8649, -299.79358, -352.42856..."
      ]
     },
     "execution_count": 42,
     "metadata": {},
     "output_type": "execute_result"
    }
   ],
   "source": [
    "extracted_features_d=pd.DataFrame(k,columns=['Vectors'])\n",
    "extracted_features_d"
   ]
  },
  {
   "cell_type": "code",
   "execution_count": 43,
   "id": "8ccadca6",
   "metadata": {},
   "outputs": [],
   "source": [
    "feature_dim_1 = MFCC_NUM\n",
    "# Second dimension of the feature is dim2\n",
    "feature_dim_2 = MFCC_MAX_LEN\n",
    "channel = 1\n",
    "epochs = 70\n",
    "batch_size = 100\n",
    "verbose = 1"
   ]
  },
  {
   "cell_type": "code",
   "execution_count": 44,
   "id": "22c082e3",
   "metadata": {},
   "outputs": [],
   "source": [
    "X=np.array(extracted_features_d['Vectors'].tolist())\n",
    "#y=np.array(extracted_features_d['Lang'].tolist())"
   ]
  },
  {
   "cell_type": "code",
   "execution_count": 45,
   "id": "8f1cbfdd",
   "metadata": {},
   "outputs": [
    {
     "data": {
      "text/plain": [
       "(1, 20, 2000)"
      ]
     },
     "execution_count": 45,
     "metadata": {},
     "output_type": "execute_result"
    }
   ],
   "source": [
    "X.shape"
   ]
  },
  {
   "cell_type": "code",
   "execution_count": 46,
   "id": "0673cf6d",
   "metadata": {},
   "outputs": [],
   "source": [
    "X = X.reshape(X.shape[0], feature_dim_1, feature_dim_2, channel)\n"
   ]
  },
  {
   "cell_type": "code",
   "execution_count": 47,
   "id": "e38cd52a",
   "metadata": {},
   "outputs": [
    {
     "name": "stdout",
     "output_type": "stream",
     "text": [
      "1/1 [==============================] - 0s 110ms/step\n"
     ]
    },
    {
     "data": {
      "text/plain": [
       "array([0.32865134, 0.05942817, 0.00454042, 0.01578891, 0.09212169,\n",
       "       0.17215891, 0.07764901, 0.00570029, 0.01455794, 0.22940335],\n",
       "      dtype=float32)"
      ]
     },
     "execution_count": 47,
     "metadata": {},
     "output_type": "execute_result"
    }
   ],
   "source": [
    "model.predict(X)[0]"
   ]
  },
  {
   "cell_type": "code",
   "execution_count": null,
   "id": "83c7fdb0",
   "metadata": {},
   "outputs": [],
   "source": []
  }
 ],
 "metadata": {
  "kernelspec": {
   "display_name": "Python 3 (ipykernel)",
   "language": "python",
   "name": "python3"
  },
  "language_info": {
   "codemirror_mode": {
    "name": "ipython",
    "version": 3
   },
   "file_extension": ".py",
   "mimetype": "text/x-python",
   "name": "python",
   "nbconvert_exporter": "python",
   "pygments_lexer": "ipython3",
   "version": "3.11.5"
  }
 },
 "nbformat": 4,
 "nbformat_minor": 5
}
