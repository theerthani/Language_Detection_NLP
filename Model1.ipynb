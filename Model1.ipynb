{
 "cells": [
  {
   "cell_type": "code",
   "execution_count": 1,
   "id": "f140a963",
   "metadata": {},
   "outputs": [],
   "source": [
    "import pandas as pd\n",
    "import numpy as np\n",
    "import os \n",
    "from tqdm import tqdm\n",
    "#importing libraries\n",
    "import librosa\n",
    "import matplotlib.pyplot as plt\n",
    "from scipy.io import wavfile as wav\n",
    "from os import path\n",
    "from pydub import AudioSegment"
   ]
  },
  {
   "cell_type": "code",
   "execution_count": 2,
   "id": "2154fe78",
   "metadata": {},
   "outputs": [
    {
     "data": {
      "text/html": [
       "<div>\n",
       "<style scoped>\n",
       "    .dataframe tbody tr th:only-of-type {\n",
       "        vertical-align: middle;\n",
       "    }\n",
       "\n",
       "    .dataframe tbody tr th {\n",
       "        vertical-align: top;\n",
       "    }\n",
       "\n",
       "    .dataframe thead th {\n",
       "        text-align: right;\n",
       "    }\n",
       "</style>\n",
       "<table border=\"1\" class=\"dataframe\">\n",
       "  <thead>\n",
       "    <tr style=\"text-align: right;\">\n",
       "      <th></th>\n",
       "      <th>Unnamed: 0</th>\n",
       "      <th>File</th>\n",
       "      <th>Language</th>\n",
       "    </tr>\n",
       "  </thead>\n",
       "  <tbody>\n",
       "    <tr>\n",
       "      <th>0</th>\n",
       "      <td>0</td>\n",
       "      <td>171.mp3</td>\n",
       "      <td>Bengali</td>\n",
       "    </tr>\n",
       "    <tr>\n",
       "      <th>1</th>\n",
       "      <td>1</td>\n",
       "      <td>172.mp3</td>\n",
       "      <td>Bengali</td>\n",
       "    </tr>\n",
       "    <tr>\n",
       "      <th>2</th>\n",
       "      <td>2</td>\n",
       "      <td>173.mp3</td>\n",
       "      <td>Bengali</td>\n",
       "    </tr>\n",
       "    <tr>\n",
       "      <th>3</th>\n",
       "      <td>3</td>\n",
       "      <td>174.mp3</td>\n",
       "      <td>Bengali</td>\n",
       "    </tr>\n",
       "    <tr>\n",
       "      <th>4</th>\n",
       "      <td>4</td>\n",
       "      <td>175.mp3</td>\n",
       "      <td>Bengali</td>\n",
       "    </tr>\n",
       "    <tr>\n",
       "      <th>...</th>\n",
       "      <td>...</td>\n",
       "      <td>...</td>\n",
       "      <td>...</td>\n",
       "    </tr>\n",
       "    <tr>\n",
       "      <th>300</th>\n",
       "      <td>26</td>\n",
       "      <td>856.mp3</td>\n",
       "      <td>Telugu</td>\n",
       "    </tr>\n",
       "    <tr>\n",
       "      <th>301</th>\n",
       "      <td>27</td>\n",
       "      <td>862.mp3</td>\n",
       "      <td>Telugu</td>\n",
       "    </tr>\n",
       "    <tr>\n",
       "      <th>302</th>\n",
       "      <td>28</td>\n",
       "      <td>866.mp3</td>\n",
       "      <td>Telugu</td>\n",
       "    </tr>\n",
       "    <tr>\n",
       "      <th>303</th>\n",
       "      <td>29</td>\n",
       "      <td>908.mp3</td>\n",
       "      <td>Telugu</td>\n",
       "    </tr>\n",
       "    <tr>\n",
       "      <th>304</th>\n",
       "      <td>30</td>\n",
       "      <td>935.mp3</td>\n",
       "      <td>Telugu</td>\n",
       "    </tr>\n",
       "  </tbody>\n",
       "</table>\n",
       "<p>305 rows × 3 columns</p>\n",
       "</div>"
      ],
      "text/plain": [
       "     Unnamed: 0     File Language\n",
       "0             0  171.mp3  Bengali\n",
       "1             1  172.mp3  Bengali\n",
       "2             2  173.mp3  Bengali\n",
       "3             3  174.mp3  Bengali\n",
       "4             4  175.mp3  Bengali\n",
       "..          ...      ...      ...\n",
       "300          26  856.mp3   Telugu\n",
       "301          27  862.mp3   Telugu\n",
       "302          28  866.mp3   Telugu\n",
       "303          29  908.mp3   Telugu\n",
       "304          30  935.mp3   Telugu\n",
       "\n",
       "[305 rows x 3 columns]"
      ]
     },
     "execution_count": 2,
     "metadata": {},
     "output_type": "execute_result"
    }
   ],
   "source": [
    "df=pd.read_csv('list2.csv')\n",
    "df"
   ]
  },
  {
   "cell_type": "code",
   "execution_count": 3,
   "id": "aa96c2bc",
   "metadata": {},
   "outputs": [],
   "source": [
    "MFCC_NUM = 20\n",
    "MFCC_MAX_LEN = 2000"
   ]
  },
  {
   "cell_type": "code",
   "execution_count": 4,
   "id": "a5aa26b1",
   "metadata": {},
   "outputs": [],
   "source": [
    "def features_extractor(file,lang,max_len=2000):\n",
    "    src = \"./Data/Train/\"+lang+\"1/\"+file\n",
    "    dst = \"./Data/test2.wav\"\n",
    "    sound = AudioSegment.from_mp3(src)\n",
    "    sound.export(dst, format=\"wav\")\n",
    "    audio, sample_rate = librosa.load(dst, mono=True,sr=44100) \n",
    "    audio=audio[::3]\n",
    "    mfcc = librosa.feature.mfcc(y=audio, sr=44100, n_mfcc=20)\n",
    "    if (max_len > mfcc.shape[1]):\n",
    "        pad_width = max_len - mfcc.shape[1]\n",
    "        mfcc = np.pad(mfcc, pad_width=((0, 0), (0, pad_width)), mode='constant')\n",
    "\n",
    "    # Else cutoff the remaining parts\n",
    "    else:\n",
    "        mfcc = mfcc[:, :max_len]\n",
    "    \n",
    "    return mfcc"
   ]
  },
  {
   "cell_type": "code",
   "execution_count": 5,
   "id": "41ce17f4",
   "metadata": {},
   "outputs": [
    {
     "name": "stderr",
     "output_type": "stream",
     "text": [
      "305it [00:35,  8.48it/s]\n"
     ]
    }
   ],
   "source": [
    "extracted_features=[]\n",
    "for index_num,row in tqdm(df.iterrows()):\n",
    "    file_Name = str(row[\"File\"])\n",
    "    class_labels=row[\"Language\"]\n",
    "    data=features_extractor(file_Name,class_labels)\n",
    "    extracted_features.append([data,class_labels])"
   ]
  },
  {
   "cell_type": "code",
   "execution_count": 6,
   "id": "a8d6a3cf",
   "metadata": {},
   "outputs": [
    {
     "data": {
      "text/plain": [
       "[[array([[-5.2946625e+02, -4.5446738e+02, -3.9308878e+02, ...,\n",
       "           0.0000000e+00,  0.0000000e+00,  0.0000000e+00],\n",
       "         [ 4.8457233e+01,  9.5342575e+01,  1.5136635e+02, ...,\n",
       "           0.0000000e+00,  0.0000000e+00,  0.0000000e+00],\n",
       "         [ 2.8190834e+01,  2.5879881e+01,  3.9971344e+01, ...,\n",
       "           0.0000000e+00,  0.0000000e+00,  0.0000000e+00],\n",
       "         ...,\n",
       "         [-1.0993437e+01, -5.0499296e+00,  7.1224375e+00, ...,\n",
       "           0.0000000e+00,  0.0000000e+00,  0.0000000e+00],\n",
       "         [-6.9087219e+00,  9.1962814e-02,  7.1970024e+00, ...,\n",
       "           0.0000000e+00,  0.0000000e+00,  0.0000000e+00],\n",
       "         [-5.3697634e+00, -3.7932420e-01,  9.5489740e-01, ...,\n",
       "           0.0000000e+00,  0.0000000e+00,  0.0000000e+00]], dtype=float32),\n",
       "  'Bengali'],\n",
       " [array([[-5.4273145e+02, -4.4655005e+02, -2.6354449e+02, ...,\n",
       "           0.0000000e+00,  0.0000000e+00,  0.0000000e+00],\n",
       "         [ 8.5125893e+01,  1.2557796e+02,  1.1585376e+02, ...,\n",
       "           0.0000000e+00,  0.0000000e+00,  0.0000000e+00],\n",
       "         [ 3.8923485e+01,  6.5528446e-01, -8.1410538e+01, ...,\n",
       "           0.0000000e+00,  0.0000000e+00,  0.0000000e+00],\n",
       "         ...,\n",
       "         [ 1.5871722e-01, -4.4501883e-01, -9.3275661e+00, ...,\n",
       "           0.0000000e+00,  0.0000000e+00,  0.0000000e+00],\n",
       "         [ 4.2076063e+00,  9.5642395e+00,  2.0810566e+00, ...,\n",
       "           0.0000000e+00,  0.0000000e+00,  0.0000000e+00],\n",
       "         [ 4.0464544e+00,  5.8807840e+00, -3.7009106e+00, ...,\n",
       "           0.0000000e+00,  0.0000000e+00,  0.0000000e+00]], dtype=float32),\n",
       "  'Bengali'],\n",
       " [array([[-580.6701    , -480.8971    , -398.3205    , ...,    0.        ,\n",
       "             0.        ,    0.        ],\n",
       "         [   7.73022   ,    1.1551852 ,   38.399025  , ...,    0.        ,\n",
       "             0.        ,    0.        ],\n",
       "         [  15.806478  ,   47.946327  ,   70.66341   , ...,    0.        ,\n",
       "             0.        ,    0.        ],\n",
       "         ...,\n",
       "         [   0.9738647 ,    0.96812725,   -3.4578586 , ...,    0.        ,\n",
       "             0.        ,    0.        ],\n",
       "         [   1.9829682 ,    1.9108036 ,   -2.66694   , ...,    0.        ,\n",
       "             0.        ,    0.        ],\n",
       "         [  -3.668641  ,   -8.451117  ,  -10.960523  , ...,    0.        ,\n",
       "             0.        ,    0.        ]], dtype=float32),\n",
       "  'Bengali']]"
      ]
     },
     "execution_count": 6,
     "metadata": {},
     "output_type": "execute_result"
    }
   ],
   "source": [
    "extracted_features[:3]"
   ]
  },
  {
   "cell_type": "code",
   "execution_count": 7,
   "id": "e172bd66",
   "metadata": {},
   "outputs": [
    {
     "data": {
      "text/html": [
       "<div>\n",
       "<style scoped>\n",
       "    .dataframe tbody tr th:only-of-type {\n",
       "        vertical-align: middle;\n",
       "    }\n",
       "\n",
       "    .dataframe tbody tr th {\n",
       "        vertical-align: top;\n",
       "    }\n",
       "\n",
       "    .dataframe thead th {\n",
       "        text-align: right;\n",
       "    }\n",
       "</style>\n",
       "<table border=\"1\" class=\"dataframe\">\n",
       "  <thead>\n",
       "    <tr style=\"text-align: right;\">\n",
       "      <th></th>\n",
       "      <th>Vectors</th>\n",
       "      <th>Lang</th>\n",
       "    </tr>\n",
       "  </thead>\n",
       "  <tbody>\n",
       "    <tr>\n",
       "      <th>0</th>\n",
       "      <td>[[-529.46625, -454.46738, -393.08878, -297.311...</td>\n",
       "      <td>Bengali</td>\n",
       "    </tr>\n",
       "    <tr>\n",
       "      <th>1</th>\n",
       "      <td>[[-542.73145, -446.55005, -263.5445, -161.7895...</td>\n",
       "      <td>Bengali</td>\n",
       "    </tr>\n",
       "    <tr>\n",
       "      <th>2</th>\n",
       "      <td>[[-580.6701, -480.8971, -398.3205, -236.64789,...</td>\n",
       "      <td>Bengali</td>\n",
       "    </tr>\n",
       "    <tr>\n",
       "      <th>3</th>\n",
       "      <td>[[-423.3275, -332.37094, -332.72223, -315.9054...</td>\n",
       "      <td>Bengali</td>\n",
       "    </tr>\n",
       "    <tr>\n",
       "      <th>4</th>\n",
       "      <td>[[-247.7952, -113.57214, -67.81812, -92.65014,...</td>\n",
       "      <td>Bengali</td>\n",
       "    </tr>\n",
       "  </tbody>\n",
       "</table>\n",
       "</div>"
      ],
      "text/plain": [
       "                                             Vectors     Lang\n",
       "0  [[-529.46625, -454.46738, -393.08878, -297.311...  Bengali\n",
       "1  [[-542.73145, -446.55005, -263.5445, -161.7895...  Bengali\n",
       "2  [[-580.6701, -480.8971, -398.3205, -236.64789,...  Bengali\n",
       "3  [[-423.3275, -332.37094, -332.72223, -315.9054...  Bengali\n",
       "4  [[-247.7952, -113.57214, -67.81812, -92.65014,...  Bengali"
      ]
     },
     "execution_count": 7,
     "metadata": {},
     "output_type": "execute_result"
    }
   ],
   "source": [
    "extracted_features_df=pd.DataFrame(extracted_features,columns=['Vectors','Lang'])\n",
    "extracted_features_df.head(5)"
   ]
  },
  {
   "cell_type": "code",
   "execution_count": 8,
   "id": "2f4fdb3a",
   "metadata": {},
   "outputs": [
    {
     "name": "stdout",
     "output_type": "stream",
     "text": [
      "                                               Vectors      Lang\n",
      "3    [[-423.3275, -332.37094, -332.72223, -315.9054...   Bengali\n",
      "80   [[-588.9912, -516.06537, -523.1096, -582.8048,...     Hindi\n",
      "182  [[-360.6193, -304.20007, -299.7313, -230.34013...      Urdu\n",
      "180  [[-308.90338, -228.43907, -251.75803, -167.114...      Urdu\n",
      "148  [[-417.26654, -245.93082, -193.48895, -194.758...   Punjabi\n",
      "..                                                 ...       ...\n",
      "62   [[-613.6033, -435.60806, -227.61128, -173.5785...  Gujrathi\n",
      "13   [[-547.1625, -518.1402, -540.4688, -549.61835,...   Bengali\n",
      "214  [[-366.7488, -270.12405, -282.13925, -298.8207...  Malyalam\n",
      "268  [[-454.10962, -352.8136, -327.1522, -341.45334...   Marathi\n",
      "168  [[-481.72382, -384.03067, -268.27115, -197.915...      Urdu\n",
      "\n",
      "[305 rows x 2 columns]\n"
     ]
    }
   ],
   "source": [
    "shuffled = extracted_features_df.sample(frac=1)\n",
    "print(shuffled)"
   ]
  },
  {
   "cell_type": "code",
   "execution_count": 9,
   "id": "914c41c4",
   "metadata": {},
   "outputs": [],
   "source": [
    "#split into dependent and independent variables\n",
    "X=np.array(shuffled['Vectors'].tolist())\n",
    "y=np.array(shuffled['Lang'].tolist())"
   ]
  },
  {
   "cell_type": "code",
   "execution_count": 10,
   "id": "7adc059f",
   "metadata": {},
   "outputs": [
    {
     "data": {
      "text/plain": [
       "dtype('float32')"
      ]
     },
     "execution_count": 10,
     "metadata": {},
     "output_type": "execute_result"
    }
   ],
   "source": [
    "X.dtype"
   ]
  },
  {
   "cell_type": "code",
   "execution_count": 11,
   "id": "7dbbc47a",
   "metadata": {},
   "outputs": [
    {
     "data": {
      "text/plain": [
       "array([[1., 0., 0., ..., 0., 0., 0.],\n",
       "       [0., 0., 1., ..., 0., 0., 0.],\n",
       "       [0., 0., 0., ..., 0., 0., 1.],\n",
       "       ...,\n",
       "       [0., 0., 0., ..., 0., 0., 0.],\n",
       "       [0., 0., 0., ..., 0., 0., 0.],\n",
       "       [0., 0., 0., ..., 0., 0., 1.]], dtype=float32)"
      ]
     },
     "execution_count": 11,
     "metadata": {},
     "output_type": "execute_result"
    }
   ],
   "source": [
    "from tensorflow.keras.utils import to_categorical\n",
    "from sklearn.preprocessing import LabelEncoder\n",
    "\n",
    "#Label encoding\n",
    "from tensorflow.keras.utils import to_categorical\n",
    "from sklearn.preprocessing import LabelEncoder\n",
    "labelencoder=LabelEncoder()\n",
    "y=to_categorical(labelencoder.fit_transform(y))\n",
    "y\n",
    "\n"
   ]
  },
  {
   "cell_type": "code",
   "execution_count": 12,
   "id": "cde75c17",
   "metadata": {},
   "outputs": [],
   "source": [
    "import tensorflow\n",
    "import keras\n",
    "import tensorflow.keras.utils\n",
    "from tensorflow.keras.utils import to_categorical\n",
    "from sklearn.preprocessing import LabelEncoder\n",
    "labelencoder=LabelEncoder()"
   ]
  },
  {
   "cell_type": "code",
   "execution_count": 13,
   "id": "e633834e",
   "metadata": {},
   "outputs": [],
   "source": [
    "from sklearn.model_selection import train_test_split"
   ]
  },
  {
   "cell_type": "code",
   "execution_count": 14,
   "id": "ea680b81",
   "metadata": {},
   "outputs": [],
   "source": [
    "X_train, X_test, y_train, y_test = train_test_split(X, y, test_size=0.2)\n",
    "X_train, X_validation, y_train, y_validation = train_test_split(X_train, y_train, test_size=0.2)"
   ]
  },
  {
   "cell_type": "code",
   "execution_count": 15,
   "id": "545c02fa",
   "metadata": {},
   "outputs": [
    {
     "data": {
      "text/plain": [
       "(195, 20, 2000)"
      ]
     },
     "execution_count": 15,
     "metadata": {},
     "output_type": "execute_result"
    }
   ],
   "source": [
    "X_train.shape"
   ]
  },
  {
   "cell_type": "code",
   "execution_count": 16,
   "id": "6526bca7",
   "metadata": {},
   "outputs": [],
   "source": [
    "feature_dim_1 = MFCC_NUM\n",
    "# Second dimension of the feature is dim2\n",
    "feature_dim_2 = MFCC_MAX_LEN\n",
    "channel = 1\n",
    "epochs = 70\n",
    "batch_size = 100\n",
    "verbose = 1\n",
    "num_classes = len(y[0])"
   ]
  },
  {
   "cell_type": "code",
   "execution_count": 17,
   "id": "eba910f5",
   "metadata": {},
   "outputs": [],
   "source": [
    "X_train = X_train.reshape(X_train.shape[0], feature_dim_1, feature_dim_2, channel)\n",
    "X_test = X_test.reshape(X_test.shape[0], feature_dim_1, feature_dim_2, channel)"
   ]
  },
  {
   "cell_type": "code",
   "execution_count": 18,
   "id": "d48cc186",
   "metadata": {},
   "outputs": [],
   "source": [
    "from keras.models import Sequential\n",
    "from keras.layers import Dense, Dropout, Flatten, Conv2D, MaxPooling2D\n",
    "from keras.utils import to_categorical\n",
    "from keras import optimizers"
   ]
  },
  {
   "cell_type": "code",
   "execution_count": 19,
   "id": "9ead043a",
   "metadata": {},
   "outputs": [],
   "source": [
    "    model = Sequential()\n",
    "    model.add(Conv2D(32, kernel_size=(2, 2), activation='relu', input_shape=(feature_dim_1, feature_dim_2, channel)))\n",
    "    model.add(Conv2D(48, kernel_size=(2, 2), activation='relu'))\n",
    "    \n",
    "    model.add(MaxPooling2D(pool_size=(2, 2)))\n",
    "    model.add(Dropout(0.25))\n",
    "    model.add(Flatten())\n",
    "    model.add(Dense(128, activation='relu'))\n",
    "    model.add(Dropout(0.25))\n",
    "    model.add(Dense(64, activation='relu'))\n",
    "    model.add(Dropout(0.4))\n",
    "    model.add(Dense(num_classes, activation='softmax'))\n",
    "    "
   ]
  },
  {
   "cell_type": "code",
   "execution_count": 20,
   "id": "f4da0397",
   "metadata": {},
   "outputs": [
    {
     "name": "stdout",
     "output_type": "stream",
     "text": [
      "Model: \"sequential\"\n",
      "_________________________________________________________________\n",
      " Layer (type)                Output Shape              Param #   \n",
      "=================================================================\n",
      " conv2d (Conv2D)             (None, 19, 1999, 32)      160       \n",
      "                                                                 \n",
      " conv2d_1 (Conv2D)           (None, 18, 1998, 48)      6192      \n",
      "                                                                 \n",
      " max_pooling2d (MaxPooling2  (None, 9, 999, 48)        0         \n",
      " D)                                                              \n",
      "                                                                 \n",
      " dropout (Dropout)           (None, 9, 999, 48)        0         \n",
      "                                                                 \n",
      " flatten (Flatten)           (None, 431568)            0         \n",
      "                                                                 \n",
      " dense (Dense)               (None, 128)               55240832  \n",
      "                                                                 \n",
      " dropout_1 (Dropout)         (None, 128)               0         \n",
      "                                                                 \n",
      " dense_1 (Dense)             (None, 64)                8256      \n",
      "                                                                 \n",
      " dropout_2 (Dropout)         (None, 64)                0         \n",
      "                                                                 \n",
      " dense_2 (Dense)             (None, 10)                650       \n",
      "                                                                 \n",
      "=================================================================\n",
      "Total params: 55256090 (210.79 MB)\n",
      "Trainable params: 55256090 (210.79 MB)\n",
      "Non-trainable params: 0 (0.00 Byte)\n",
      "_________________________________________________________________\n"
     ]
    }
   ],
   "source": [
    "model.summary()"
   ]
  },
  {
   "cell_type": "code",
   "execution_count": 21,
   "id": "a816275a",
   "metadata": {},
   "outputs": [],
   "source": [
    "import tensorflow as tf\n",
    "\n",
    "optimizer = tf.keras.optimizers.legacy.SGD(learning_rate=0.002, decay=1e-6, momentum=0.9, nesterov=True)"
   ]
  },
  {
   "cell_type": "code",
   "execution_count": 22,
   "id": "d1b84b76",
   "metadata": {},
   "outputs": [],
   "source": [
    "model.compile(optimizer='sgd', loss='categorical_crossentropy', metrics=['accuracy'])"
   ]
  },
  {
   "cell_type": "code",
   "execution_count": 23,
   "id": "8d53256a",
   "metadata": {},
   "outputs": [
    {
     "name": "stdout",
     "output_type": "stream",
     "text": [
      "Epoch 1/70\n",
      "2/2 [==============================] - 9s 4s/step - loss: 83.9281 - accuracy: 0.0769 - val_loss: 32.9877 - val_accuracy: 0.1148\n",
      "Epoch 2/70\n",
      "2/2 [==============================] - 6s 3s/step - loss: 30.1631 - accuracy: 0.0974 - val_loss: 2.3207 - val_accuracy: 0.0656\n",
      "Epoch 3/70\n",
      "2/2 [==============================] - 7s 3s/step - loss: 2.3141 - accuracy: 0.1026 - val_loss: 2.2979 - val_accuracy: 0.1311\n",
      "Epoch 4/70\n",
      "2/2 [==============================] - 6s 3s/step - loss: 2.2870 - accuracy: 0.0821 - val_loss: 2.2971 - val_accuracy: 0.0820\n",
      "Epoch 5/70\n",
      "2/2 [==============================] - 7s 4s/step - loss: 2.2721 - accuracy: 0.1487 - val_loss: 2.2961 - val_accuracy: 0.0984\n",
      "Epoch 6/70\n",
      "2/2 [==============================] - 7s 3s/step - loss: 2.2136 - accuracy: 0.2051 - val_loss: 2.2905 - val_accuracy: 0.1148\n",
      "Epoch 7/70\n",
      "2/2 [==============================] - 6s 3s/step - loss: 2.2260 - accuracy: 0.1590 - val_loss: 2.2929 - val_accuracy: 0.2131\n",
      "Epoch 8/70\n",
      "2/2 [==============================] - 7s 4s/step - loss: 2.2045 - accuracy: 0.2154 - val_loss: 2.2901 - val_accuracy: 0.1475\n",
      "Epoch 9/70\n",
      "2/2 [==============================] - 6s 3s/step - loss: 2.1431 - accuracy: 0.2462 - val_loss: 2.3045 - val_accuracy: 0.1148\n",
      "Epoch 10/70\n",
      "2/2 [==============================] - 6s 3s/step - loss: 2.0601 - accuracy: 0.2564 - val_loss: 2.2697 - val_accuracy: 0.1148\n",
      "Epoch 11/70\n",
      "2/2 [==============================] - 7s 3s/step - loss: 2.0621 - accuracy: 0.2513 - val_loss: 2.2578 - val_accuracy: 0.2295\n",
      "Epoch 12/70\n",
      "2/2 [==============================] - 7s 3s/step - loss: 2.0322 - accuracy: 0.3282 - val_loss: 2.2210 - val_accuracy: 0.2131\n",
      "Epoch 13/70\n",
      "2/2 [==============================] - 13s 3s/step - loss: 1.9176 - accuracy: 0.3179 - val_loss: 2.1732 - val_accuracy: 0.2295\n",
      "Epoch 14/70\n",
      "2/2 [==============================] - 16s 7s/step - loss: 1.8955 - accuracy: 0.3436 - val_loss: 2.1913 - val_accuracy: 0.2951\n",
      "Epoch 15/70\n",
      "2/2 [==============================] - 17s 9s/step - loss: 1.9017 - accuracy: 0.3897 - val_loss: 2.1696 - val_accuracy: 0.2131\n",
      "Epoch 16/70\n",
      "2/2 [==============================] - 16s 8s/step - loss: 1.8551 - accuracy: 0.3231 - val_loss: 2.1586 - val_accuracy: 0.1967\n",
      "Epoch 17/70\n",
      "2/2 [==============================] - 17s 8s/step - loss: 1.7819 - accuracy: 0.4359 - val_loss: 2.1068 - val_accuracy: 0.2787\n",
      "Epoch 18/70\n",
      "2/2 [==============================] - 15s 9s/step - loss: 1.7265 - accuracy: 0.3897 - val_loss: 2.0390 - val_accuracy: 0.3115\n",
      "Epoch 19/70\n",
      "2/2 [==============================] - 10s 7s/step - loss: 1.4759 - accuracy: 0.4769 - val_loss: 2.1238 - val_accuracy: 0.2295\n",
      "Epoch 20/70\n",
      "2/2 [==============================] - 17s 8s/step - loss: 1.5457 - accuracy: 0.4974 - val_loss: 2.1603 - val_accuracy: 0.2131\n",
      "Epoch 21/70\n",
      "2/2 [==============================] - 16s 12s/step - loss: 1.3597 - accuracy: 0.6051 - val_loss: 1.9560 - val_accuracy: 0.3279\n",
      "Epoch 22/70\n",
      "2/2 [==============================] - 7s 3s/step - loss: 1.6024 - accuracy: 0.4974 - val_loss: 2.1386 - val_accuracy: 0.2295\n",
      "Epoch 23/70\n",
      "2/2 [==============================] - 6s 3s/step - loss: 1.4152 - accuracy: 0.5795 - val_loss: 1.9898 - val_accuracy: 0.2951\n",
      "Epoch 24/70\n",
      "2/2 [==============================] - 11s 3s/step - loss: 1.1608 - accuracy: 0.6462 - val_loss: 2.4249 - val_accuracy: 0.2459\n",
      "Epoch 25/70\n",
      "2/2 [==============================] - 6s 3s/step - loss: 1.4565 - accuracy: 0.5179 - val_loss: 2.0032 - val_accuracy: 0.3115\n",
      "Epoch 26/70\n",
      "2/2 [==============================] - 6s 3s/step - loss: 1.1963 - accuracy: 0.6359 - val_loss: 1.8337 - val_accuracy: 0.3607\n",
      "Epoch 27/70\n",
      "2/2 [==============================] - 16s 9s/step - loss: 0.8781 - accuracy: 0.7077 - val_loss: 2.0140 - val_accuracy: 0.3443\n",
      "Epoch 28/70\n",
      "2/2 [==============================] - 11s 4s/step - loss: 0.8692 - accuracy: 0.6974 - val_loss: 2.0062 - val_accuracy: 0.3770\n",
      "Epoch 29/70\n",
      "2/2 [==============================] - 6s 3s/step - loss: 0.8647 - accuracy: 0.7179 - val_loss: 1.8294 - val_accuracy: 0.3934\n",
      "Epoch 30/70\n",
      "2/2 [==============================] - 6s 3s/step - loss: 0.6228 - accuracy: 0.7692 - val_loss: 1.9638 - val_accuracy: 0.3934\n",
      "Epoch 31/70\n",
      "2/2 [==============================] - 15s 8s/step - loss: 0.6299 - accuracy: 0.8154 - val_loss: 1.9755 - val_accuracy: 0.3443\n",
      "Epoch 32/70\n",
      "2/2 [==============================] - 6s 3s/step - loss: 0.5648 - accuracy: 0.8154 - val_loss: 1.9935 - val_accuracy: 0.3115\n",
      "Epoch 33/70\n",
      "2/2 [==============================] - 6s 3s/step - loss: 0.7592 - accuracy: 0.7487 - val_loss: 2.3438 - val_accuracy: 0.3443\n",
      "Epoch 34/70\n",
      "2/2 [==============================] - 6s 3s/step - loss: 0.8995 - accuracy: 0.7282 - val_loss: 2.1049 - val_accuracy: 0.3607\n",
      "Epoch 35/70\n",
      "2/2 [==============================] - 12s 9s/step - loss: 0.7430 - accuracy: 0.7897 - val_loss: 1.8389 - val_accuracy: 0.4262\n",
      "Epoch 36/70\n",
      "2/2 [==============================] - 6s 3s/step - loss: 0.5022 - accuracy: 0.8821 - val_loss: 2.0351 - val_accuracy: 0.3115\n",
      "Epoch 37/70\n",
      "2/2 [==============================] - 6s 3s/step - loss: 0.5096 - accuracy: 0.8615 - val_loss: 2.1348 - val_accuracy: 0.3115\n",
      "Epoch 38/70\n",
      "2/2 [==============================] - 6s 3s/step - loss: 0.4111 - accuracy: 0.8564 - val_loss: 1.9262 - val_accuracy: 0.4098\n",
      "Epoch 39/70\n",
      "2/2 [==============================] - 6s 3s/step - loss: 0.3492 - accuracy: 0.8974 - val_loss: 2.0216 - val_accuracy: 0.3443\n",
      "Epoch 40/70\n",
      "2/2 [==============================] - 7s 4s/step - loss: 0.3672 - accuracy: 0.8821 - val_loss: 2.0243 - val_accuracy: 0.4262\n",
      "Epoch 41/70\n",
      "2/2 [==============================] - 6s 3s/step - loss: 0.2978 - accuracy: 0.9026 - val_loss: 2.0060 - val_accuracy: 0.4262\n",
      "Epoch 42/70\n",
      "2/2 [==============================] - 6s 3s/step - loss: 0.3404 - accuracy: 0.9026 - val_loss: 2.0372 - val_accuracy: 0.3607\n",
      "Epoch 43/70\n",
      "2/2 [==============================] - 12s 4s/step - loss: 0.2688 - accuracy: 0.9179 - val_loss: 2.0122 - val_accuracy: 0.4262\n",
      "Epoch 44/70\n",
      "2/2 [==============================] - 6s 3s/step - loss: 0.3080 - accuracy: 0.8923 - val_loss: 2.1143 - val_accuracy: 0.3934\n",
      "Epoch 45/70\n",
      "2/2 [==============================] - 6s 3s/step - loss: 0.3232 - accuracy: 0.8872 - val_loss: 2.0161 - val_accuracy: 0.4426\n",
      "Epoch 46/70\n",
      "2/2 [==============================] - 15s 9s/step - loss: 0.2911 - accuracy: 0.9128 - val_loss: 1.9574 - val_accuracy: 0.4590\n",
      "Epoch 47/70\n",
      "2/2 [==============================] - 6s 3s/step - loss: 0.3022 - accuracy: 0.9179 - val_loss: 2.0515 - val_accuracy: 0.4426\n",
      "Epoch 48/70\n",
      "2/2 [==============================] - 11s 4s/step - loss: 0.3121 - accuracy: 0.9179 - val_loss: 2.0043 - val_accuracy: 0.4098\n",
      "Epoch 49/70\n",
      "2/2 [==============================] - 11s 8s/step - loss: 0.2642 - accuracy: 0.9128 - val_loss: 2.1567 - val_accuracy: 0.4262\n",
      "Epoch 50/70\n",
      "2/2 [==============================] - 17s 12s/step - loss: 0.2205 - accuracy: 0.9128 - val_loss: 2.1524 - val_accuracy: 0.4098\n",
      "Epoch 51/70\n",
      "2/2 [==============================] - 10s 3s/step - loss: 0.2531 - accuracy: 0.9333 - val_loss: 2.0471 - val_accuracy: 0.4590\n",
      "Epoch 52/70\n",
      "2/2 [==============================] - 6s 3s/step - loss: 0.2861 - accuracy: 0.9179 - val_loss: 2.1198 - val_accuracy: 0.4098\n",
      "Epoch 53/70\n",
      "2/2 [==============================] - 7s 3s/step - loss: 0.3160 - accuracy: 0.9026 - val_loss: 1.9593 - val_accuracy: 0.4098\n",
      "Epoch 54/70\n",
      "2/2 [==============================] - 12s 9s/step - loss: 0.2279 - accuracy: 0.9385 - val_loss: 2.0452 - val_accuracy: 0.3934\n",
      "Epoch 55/70\n",
      "2/2 [==============================] - 16s 8s/step - loss: 0.2330 - accuracy: 0.9282 - val_loss: 2.1476 - val_accuracy: 0.3770\n",
      "Epoch 56/70\n",
      "2/2 [==============================] - 6s 3s/step - loss: 0.2249 - accuracy: 0.9333 - val_loss: 2.2732 - val_accuracy: 0.3934\n",
      "Epoch 57/70\n",
      "2/2 [==============================] - 11s 4s/step - loss: 0.2697 - accuracy: 0.9282 - val_loss: 2.1575 - val_accuracy: 0.3770\n",
      "Epoch 58/70\n",
      "2/2 [==============================] - 6s 3s/step - loss: 0.1887 - accuracy: 0.9385 - val_loss: 2.0907 - val_accuracy: 0.4426\n",
      "Epoch 59/70\n",
      "2/2 [==============================] - 6s 3s/step - loss: 0.2183 - accuracy: 0.9128 - val_loss: 2.3138 - val_accuracy: 0.4262\n",
      "Epoch 60/70\n"
     ]
    },
    {
     "name": "stdout",
     "output_type": "stream",
     "text": [
      "2/2 [==============================] - 16s 8s/step - loss: 0.2299 - accuracy: 0.9641 - val_loss: 2.0043 - val_accuracy: 0.4590\n",
      "Epoch 61/70\n",
      "2/2 [==============================] - 12s 4s/step - loss: 0.2613 - accuracy: 0.9333 - val_loss: 2.0482 - val_accuracy: 0.4262\n",
      "Epoch 62/70\n",
      "2/2 [==============================] - 12s 4s/step - loss: 0.2661 - accuracy: 0.9282 - val_loss: 2.4316 - val_accuracy: 0.3607\n",
      "Epoch 63/70\n",
      "2/2 [==============================] - 7s 4s/step - loss: 0.2287 - accuracy: 0.9179 - val_loss: 2.2035 - val_accuracy: 0.4098\n",
      "Epoch 64/70\n",
      "2/2 [==============================] - 7s 3s/step - loss: 0.1989 - accuracy: 0.9385 - val_loss: 2.1701 - val_accuracy: 0.4262\n",
      "Epoch 65/70\n",
      "2/2 [==============================] - 13s 4s/step - loss: 0.2369 - accuracy: 0.9231 - val_loss: 2.1298 - val_accuracy: 0.4098\n",
      "Epoch 66/70\n",
      "2/2 [==============================] - 7s 4s/step - loss: 0.2157 - accuracy: 0.9385 - val_loss: 2.0149 - val_accuracy: 0.4098\n",
      "Epoch 67/70\n",
      "2/2 [==============================] - 13s 3s/step - loss: 0.2727 - accuracy: 0.8923 - val_loss: 2.1058 - val_accuracy: 0.4754\n",
      "Epoch 68/70\n",
      "2/2 [==============================] - 6s 3s/step - loss: 0.1834 - accuracy: 0.9333 - val_loss: 2.2114 - val_accuracy: 0.4098\n",
      "Epoch 69/70\n",
      "2/2 [==============================] - 6s 3s/step - loss: 0.1781 - accuracy: 0.9436 - val_loss: 2.3420 - val_accuracy: 0.3934\n",
      "Epoch 70/70\n",
      "2/2 [==============================] - 6s 3s/step - loss: 0.1505 - accuracy: 0.9590 - val_loss: 2.4469 - val_accuracy: 0.3934\n"
     ]
    },
    {
     "data": {
      "text/plain": [
       "<keras.src.callbacks.History at 0x1b5c01e4fd0>"
      ]
     },
     "execution_count": 23,
     "metadata": {},
     "output_type": "execute_result"
    }
   ],
   "source": [
    "model.fit(X_train, y_train, batch_size=batch_size, epochs=epochs, verbose=verbose, validation_data=(X_test, y_test))   \n"
   ]
  },
  {
   "cell_type": "code",
   "execution_count": 24,
   "id": "7993a493",
   "metadata": {},
   "outputs": [],
   "source": [
    "X_validation = X_validation.reshape(X_validation.shape[0], feature_dim_1, feature_dim_2, channel)"
   ]
  },
  {
   "cell_type": "code",
   "execution_count": 25,
   "id": "17d014aa",
   "metadata": {},
   "outputs": [
    {
     "name": "stdout",
     "output_type": "stream",
     "text": [
      "2/2 [==============================] - 1s 118ms/step\n"
     ]
    },
    {
     "data": {
      "text/plain": [
       "array([1.6473841e-05, 3.6644863e-07, 3.4251694e-05, 1.9439696e-07,\n",
       "       2.6158762e-06, 2.8528734e-07, 6.5810550e-06, 9.9991977e-01,\n",
       "       1.9429153e-05, 7.8207840e-09], dtype=float32)"
      ]
     },
     "execution_count": 25,
     "metadata": {},
     "output_type": "execute_result"
    }
   ],
   "source": [
    "model.predict(X_validation)[0]"
   ]
  },
  {
   "cell_type": "code",
   "execution_count": null,
   "id": "dfda0aa6",
   "metadata": {},
   "outputs": [],
   "source": []
  }
 ],
 "metadata": {
  "kernelspec": {
   "display_name": "Python 3 (ipykernel)",
   "language": "python",
   "name": "python3"
  },
  "language_info": {
   "codemirror_mode": {
    "name": "ipython",
    "version": 3
   },
   "file_extension": ".py",
   "mimetype": "text/x-python",
   "name": "python",
   "nbconvert_exporter": "python",
   "pygments_lexer": "ipython3",
   "version": "3.11.5"
  }
 },
 "nbformat": 4,
 "nbformat_minor": 5
}
